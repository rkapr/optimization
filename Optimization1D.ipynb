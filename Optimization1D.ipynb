{
 "cells": [
  {
   "cell_type": "markdown",
   "metadata": {},
   "source": [
    "# Newton's Method for root finding"
   ]
  },
  {
   "cell_type": "code",
   "execution_count": 27,
   "metadata": {
    "collapsed": true
   },
   "outputs": [],
   "source": [
    "import numpy as np\n",
    "%matplotlib inline\n",
    "import matplotlib.pyplot as plt\n",
    "plt.style.use('seaborn-whitegrid')"
   ]
  },
  {
   "cell_type": "code",
   "execution_count": 28,
   "metadata": {},
   "outputs": [
    {
     "data": {
      "text/plain": [
       "<matplotlib.text.Text at 0x112a61a20>"
      ]
     },
     "execution_count": 28,
     "metadata": {},
     "output_type": "execute_result"
    },
    {
     "data": {
      "image/png": "[encoded data removed]",
      "text/plain": [
       "<matplotlib.figure.Figure at 0x112a4c8d0>"
      ]
     },
     "metadata": {},
     "output_type": "display_data"
    }
   ],
   "source": [
    "# Newton's Method for root finding in 1D\n",
    "# Problem: find root of g\n",
    "def g(x):\n",
    "    return 1.95 - np.exp(-2/x) - 2*np.exp(-np.power(x,4))\n",
    "    \n",
    "x = np.linspace(0.01,4.0,400)\n",
    "\n",
    "plt.plot(x,g(x))\n",
    "plt.title('Plot of g(x)')\n",
    "plt.xlabel('x')\n",
    "plt.ylabel(\"g(x)\")"
   ]
  },
  {
   "cell_type": "code",
   "execution_count": 29,
   "metadata": {},
   "outputs": [
    {
     "data": {
      "text/plain": [
       "<matplotlib.text.Text at 0x112a7b8d0>"
      ]
     },
     "execution_count": 29,
     "metadata": {},
     "output_type": "execute_result"
    },
    {
     "data": {
      "image/png": "[encoded data removed]",
      "text/plain": [
       "<matplotlib.figure.Figure at 0x112a4c668>"
      ]
     },
     "metadata": {},
     "output_type": "display_data"
    }
   ],
   "source": [
    "# gd: Derivative of g\n",
    "def gd(x):\n",
    "    return -2*np.power(x,-2)*np.exp(-2/x) + 8*np.power(x,3)*np.exp(-np.power(x,4))\n",
    "\n",
    "plt.plot(x,gd(x))\n",
    "plt.title('Derivative of g(x)')\n",
    "plt.xlabel('x')\n",
    "plt.ylabel(\"g' (x)\")"
   ]
  },
  {
   "cell_type": "code",
   "execution_count": 31,
   "metadata": {
    "collapsed": true
   },
   "outputs": [],
   "source": [
    "# newton's update for root of x\n",
    "# functions are first class objects in python\n",
    "# Searches nearest optima: x0>1.4 searches on the right of peak\n",
    "def newton_update(x0,g,gd):\n",
    "    return x0 - g(x0)/gd(x0)\n"
   ]
  },
  {
   "cell_type": "code",
   "execution_count": 32,
   "metadata": {},
   "outputs": [
    {
     "name": "stdout",
     "output_type": "stream",
     "text": [
      "x = 0.596273020564\n",
      "x = 0.478748981788\n",
      "x = 0.425797517133\n",
      "x = 0.414627912436\n",
      "x = 0.4141765654\n"
     ]
    }
   ],
   "source": [
    "x0 = 1.0\n",
    "condition = True\n",
    "while condition:   \n",
    "    x1 = newton_update(x0,g,gd)\n",
    "    condition = np.abs(x0-x1) >= 0.001\n",
    "    x0 = x1\n",
    "    print('x =',x0)\n"
   ]
  },
  {
   "cell_type": "markdown",
   "metadata": {},
   "source": [
    "# Newton's method for optimization \n",
    "##### Move towards minima/downhill (opposite to direction of slope of gd NOT g) to find root of gd, hence - sign.\n",
    "##### Finds closest optimum value: maxima or minima"
   ]
  },
  {
   "cell_type": "code",
   "execution_count": 33,
   "metadata": {
    "collapsed": true
   },
   "outputs": [],
   "source": [
    "# Newton's Method for optimization\n",
    "# Problem: find maxima of g\n",
    "# Searches nearest optima: x0<0.89 searches on the left of gd peak (minima at 0)\n",
    "# x0 > 0.89 takes to inf\n",
    "# Need step size modifications\n",
    "def gdd(x):\n",
    "    return 4*np.power(x,-3)*np.exp(-2/x)-4*np.power(x,-4)*np.exp(-2/x)+24*np.power(x,2)*np.exp(-np.power(x,4))-32*np.power(x,6)*np.exp(-np.power(x,4))"
   ]
  },
  {
   "cell_type": "code",
   "execution_count": 17,
   "metadata": {},
   "outputs": [
    {
     "name": "stdout",
     "output_type": "stream",
     "text": [
      "x = 1.90803013971\n",
      "x = 3.96640484492\n",
      "x = 6.6181614689\n",
      "x = 10.5162392894\n",
      "x = 16.3269006983\n",
      "x = 25.0229734288\n",
      "x = 38.0552735534\n",
      "x = 57.5964036862\n",
      "x = 86.9034400129\n",
      "x = 130.860980508\n",
      "x = 196.795321033\n",
      "x = 295.695535237\n",
      "x = 444.044999522\n",
      "x = 666.568627836\n",
      "x = 1000.35369299\n",
      "x = 1501.03103981\n",
      "x = 2252.04689304\n",
      "x = 3378.57056168\n",
      "x = 5068.35599056\n",
      "Solution failed to converge. Try another starting value!\n"
     ]
    }
   ],
   "source": [
    "x0 = 1.0\n",
    "condition = True\n",
    "loops = 1\n",
    "max_iter = 20\n",
    "while condition and loops<max_iter:   \n",
    "    x1 = newton_update(x0,gd,gdd)\n",
    "    loops += 1\n",
    "    condition = np.abs(x0-x1) >= 0.001 \n",
    "    x0 = x1\n",
    "    print('x =',x0)\n",
    "    \n",
    "\n",
    "if loops == max_iter:\n",
    "    print('Solution failed to converge. Try another starting value!')"
   ]
  },
  {
   "cell_type": "markdown",
   "metadata": {},
   "source": [
    "# Gradient Ascent with step halving\n",
    "##### Works on slope of g (Newton's works on slope of gd): so + for maxima, - for minima vs direction of slope"
   ]
  },
  {
   "cell_type": "code",
   "execution_count": 34,
   "metadata": {
    "collapsed": true
   },
   "outputs": [],
   "source": [
    "# Gradient Ascent with step halving\n",
    "# for maxima\n",
    "def grad_ascent_update(x0,g,gd):\n",
    "    rate = 1.0\n",
    "    while g(x0 + rate*gd(x0)) < g(x0):\n",
    "        rate = rate/2    \n",
    "    return x0 + rate*gd(x0)\n",
    "# for minima\n",
    "def grad_descent_update(x0,g,gd):\n",
    "    rate = 1.0\n",
    "    while g(x0 - rate*gd(x0)) > g(x0):\n",
    "        rate = rate/2    \n",
    "    return x0 - rate*gd(x0)"
   ]
  },
  {
   "cell_type": "code",
   "execution_count": 35,
   "metadata": {},
   "outputs": [
    {
     "name": "stdout",
     "output_type": "stream",
     "text": [
      "x = 2.88590730688\n",
      "x = 2.76582218689\n",
      "x = 2.63895835983\n",
      "x = 2.50436486087\n",
      "x = 2.3608804387\n",
      "x = 2.20707450457\n",
      "x = 2.04117375203\n",
      "x = 1.8609835223\n",
      "x = 1.66414688865\n",
      "x = 1.46423731415\n",
      "x = 1.47187067602\n",
      "x = 1.47004365212\n",
      "x = 1.47042593344\n"
     ]
    }
   ],
   "source": [
    "x0 = 3.0\n",
    "condition = True\n",
    "loops = 1\n",
    "max_iter = 40\n",
    "while condition and loops<max_iter: \n",
    "    x1 = grad_ascent_update(x0,g,gd)\n",
    "    loops += 1\n",
    "    condition = np.abs(x0-x1) >= 0.001 \n",
    "    x0 = x1\n",
    "    print('x =',x0)\n",
    "    \n",
    "if loops == max_iter:\n",
    "    print('Solution failed to converge. Try another starting value!')"
   ]
  },
  {
   "cell_type": "markdown",
   "metadata": {},
   "source": [
    "# Symbolic differentiation with sympy and lambdify"
   ]
  },
  {
   "cell_type": "code",
   "execution_count": 36,
   "metadata": {
    "collapsed": true
   },
   "outputs": [],
   "source": [
    "import sympy as sp\n",
    "x = sp.symbols('x',real=True)             # define x as a mathematical symbol\n",
    "f_expr = 1.95 - sp.exp(-2/x) - 2*sp.exp(-x**4)            # symbolic expression for f(x)"
   ]
  },
  {
   "cell_type": "code",
   "execution_count": 37,
   "metadata": {},
   "outputs": [
    {
     "name": "stdout",
     "output_type": "stream",
     "text": [
      "8*x**3*exp(-x**4) - 2*exp(-2/x)/x**2\n",
      "-32*x**6*exp(-x**4) + 24*x**2*exp(-x**4) + 4*exp(-2/x)/x**3 - 4*exp(-2/x)/x**4\n"
     ]
    }
   ],
   "source": [
    "dfdx_expr = sp.diff(f_expr, x)  # compute f'(x) symbolically\n",
    "ddfdx_expr = sp.diff(dfdx_expr, x)  # compute f''(x) symbolically\n",
    "print(dfdx_expr)\n",
    "print(ddfdx_expr)"
   ]
  },
  {
   "cell_type": "code",
   "execution_count": 38,
   "metadata": {
    "collapsed": true
   },
   "outputs": [],
   "source": [
    "# Turn f_expr and dfdx_expr into plain Python functions\n",
    "f = sp.lambdify([x],     # argument to f\n",
    "             f_expr,\"numpy\")  # symbolic expression to be evaluated\n",
    "dfdx = sp.lambdify([x], dfdx_expr,\"numpy\")\n",
    "ddfdx = sp.lambdify([x], ddfdx_expr,\"numpy\")"
   ]
  },
  {
   "cell_type": "markdown",
   "metadata": {},
   "source": [
    "# Gradient Ascent with sympy output"
   ]
  },
  {
   "cell_type": "code",
   "execution_count": 39,
   "metadata": {},
   "outputs": [
    {
     "name": "stdout",
     "output_type": "stream",
     "text": [
      "x = 2.88590730688\n",
      "x = 2.76582218689\n",
      "x = 2.63895835983\n",
      "x = 2.50436486087\n",
      "x = 2.3608804387\n",
      "x = 2.20707450457\n",
      "x = 2.04117375203\n",
      "x = 1.8609835223\n",
      "x = 1.66414688865\n",
      "x = 1.46423731415\n",
      "x = 1.47187067602\n",
      "x = 1.47004365212\n",
      "x = 1.47042593344\n"
     ]
    }
   ],
   "source": [
    "x0 = 3.0\n",
    "condition = True\n",
    "loops = 1\n",
    "max_iter = 40\n",
    "while condition and loops<max_iter: \n",
    "    x1 = grad_ascent_update(x0,f,dfdx)\n",
    "    loops += 1\n",
    "    condition = np.abs(x0-x1) >= 0.001 \n",
    "    x0 = x1\n",
    "    print('x =',x0)\n",
    "    \n",
    "if loops == max_iter:\n",
    "    print('Solution failed to converge. Try another starting value!')"
   ]
  },
  {
   "cell_type": "markdown",
   "metadata": {},
   "source": [
    "# Newton's method with sympy output"
   ]
  },
  {
   "cell_type": "code",
   "execution_count": 40,
   "metadata": {},
   "outputs": [
    {
     "name": "stdout",
     "output_type": "stream",
     "text": [
      "x = 1.90803013971\n",
      "x = 3.96640484492\n",
      "x = 6.6181614689\n",
      "x = 10.5162392894\n",
      "x = 16.3269006983\n",
      "x = 25.0229734288\n",
      "x = 38.0552735534\n",
      "x = 57.5964036862\n",
      "x = 86.9034400129\n",
      "x = 130.860980508\n",
      "x = 196.795321033\n",
      "x = 295.695535237\n",
      "x = 444.044999522\n",
      "x = 666.568627836\n",
      "x = 1000.35369299\n",
      "x = 1501.03103981\n",
      "x = 2252.04689304\n",
      "x = 3378.57056168\n",
      "x = 5068.35599056\n",
      "Solution failed to converge. Try another starting value!\n"
     ]
    }
   ],
   "source": [
    "x0 = 1.0\n",
    "condition = True\n",
    "loops = 1\n",
    "max_iter = 20\n",
    "while condition and loops<max_iter:   \n",
    "    x1 = newton_update(x0,dfdx,ddfdx)\n",
    "    loops += 1\n",
    "    condition = np.abs(x0-x1) >= 0.001 \n",
    "    x0 = x1\n",
    "    print('x =',x0)\n",
    "    \n",
    "\n",
    "if loops == max_iter:\n",
    "    print('Solution failed to converge. Try another starting value!')"
   ]
  },
  {
   "cell_type": "markdown",
   "metadata": {},
   "source": [
    "# Newton's method with step halving"
   ]
  },
  {
   "cell_type": "code",
   "execution_count": 44,
   "metadata": {
    "collapsed": true
   },
   "outputs": [],
   "source": [
    "# Overshoot\n",
    "# Newton's method with step halving\n",
    "# If sign of g changes, you missed the root\n",
    "# Finds nearest optima\n",
    "def newton_update2(x0,g,gd):\n",
    "    rate = 1.0\n",
    "    while np.sign(g(x0 - rate*g(x0)/gd(x0))) != np.sign(g(x0)):\n",
    "        rate = rate/2\n",
    "    return x0 - rate*g(x0)/gd(x0)"
   ]
  },
  {
   "cell_type": "code",
   "execution_count": 43,
   "metadata": {},
   "outputs": [
    {
     "name": "stdout",
     "output_type": "stream",
     "text": [
      "x = 0.260957083566\n",
      "x = 0.164015819361\n",
      "x = 0.107836500045\n",
      "x = 0.0718599494863\n",
      "x = 0.0479057618708\n",
      "x = 0.0319370624407\n",
      "x = 0.0212913601935\n",
      "x = 0.0141942381844\n",
      "x = 0.00946282520016\n",
      "x = 0.00630855009972\n",
      "x = 0.00420570006204\n",
      "x = 0.00280380004077\n",
      "x = 0.00186920002711\n"
     ]
    }
   ],
   "source": [
    "x0 = 0.4\n",
    "condition = True\n",
    "loops = 1\n",
    "max_iter = 20\n",
    "while condition and loops<max_iter:   \n",
    "    x1 = newton_update2(x0,dfdx,ddfdx)\n",
    "    loops += 1\n",
    "    condition = np.abs(x0-x1) >= 0.001 \n",
    "    x0 = x1\n",
    "    print('x =',x0)\n",
    "    \n",
    "\n",
    "if loops == max_iter:\n",
    "    print('Solution failed to converge. Try another starting value!')"
   ]
  },
  {
   "cell_type": "markdown",
   "metadata": {
    "collapsed": true
   },
   "source": [
    "# Newton's method with step halving for maxima"
   ]
  },
  {
   "cell_type": "code",
   "execution_count": 45,
   "metadata": {
    "collapsed": true
   },
   "outputs": [],
   "source": [
    "def newton_update3(x0,g,gd):\n",
    "    rate = 1.0\n",
    "    # choose uphill direction\n",
    "    if gd(x0) > 0:\n",
    "        rate = -rate\n",
    "    while np.sign(g(x0 - rate*g(x0)/gd(x0))) != np.sign(g(x0)):\n",
    "        rate = rate/2\n",
    "    return x0 - rate*g(x0)/gd(x0)"
   ]
  },
  {
   "cell_type": "code",
   "execution_count": 47,
   "metadata": {},
   "outputs": [
    {
     "name": "stdout",
     "output_type": "stream",
     "text": [
      "x = 0.539042916434\n",
      "x = 0.72982880057\n",
      "x = 1.09566081388\n",
      "x = 1.45168190867\n",
      "x = 1.46902307749\n",
      "x = 1.47035027468\n",
      "x = 1.47035776597\n"
     ]
    }
   ],
   "source": [
    "x0 = 0.4\n",
    "condition = True\n",
    "loops = 1\n",
    "max_iter = 20\n",
    "while condition and loops<max_iter:   \n",
    "    x1 = newton_update3(x0,dfdx,ddfdx)\n",
    "    loops += 1\n",
    "    condition = np.abs(x0-x1) >= 0.001 \n",
    "    x0 = x1\n",
    "    print('x =',x0)\n",
    "    \n",
    "\n",
    "if loops == max_iter:\n",
    "    print('Solution failed to converge. Try another starting value!')"
   ]
  },
  {
   "cell_type": "code",
   "execution_count": null,
   "metadata": {
    "collapsed": true
   },
   "outputs": [],
   "source": []
  }
 ],
 "metadata": {
  "kernelspec": {
   "display_name": "Python 3",
   "language": "python",
   "name": "python3"
  },
  "language_info": {
   "codemirror_mode": {
    "name": "ipython",
    "version": 3
   },
   "file_extension": ".py",
   "mimetype": "text/x-python",
   "name": "python",
   "nbconvert_exporter": "python",
   "pygments_lexer": "ipython3",
   "version": "3.6.1"
  }
 },
 "nbformat": 4,
 "nbformat_minor": 2
}
